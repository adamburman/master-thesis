{
 "cells": [
  {
   "cell_type": "markdown",
   "metadata": {
    "id": "Y61YA90-WIZ1"
   },
   "source": [
    "# Tutorial on PINN and motivations for MINN\n",
    "\n",
    "<small> &copy; Written by Yicun Huang and Changfu Zou\n",
    "from automatic control group, Electrical Engineering, Chalmers University of Technology, Gothenburg, Sweden.\n",
    "\n",
    "Emails: yicun@chalmers.se and changfu.zou@chalmers.se\n",
    "\n",
    "This tutorial is created for implementing a simple 1D battery thermal model. "
   ]
  },
  {
   "cell_type": "markdown",
   "metadata": {},
   "source": [
    "### Existing Packages\n",
    "\n",
    "+ NeuralPDE\n",
    "+ DeepXDE\n",
    "+ SimNet\n",
    "+ pytorch"
   ]
  },
  {
   "cell_type": "markdown",
   "metadata": {},
   "source": [
    "### Libraries"
   ]
  },
  {
   "cell_type": "code",
   "execution_count": 2,
   "metadata": {
    "colab": {
     "base_uri": "https://localhost:8080/"
    },
    "id": "OdYMzuSDi7Js",
    "outputId": "f7b7bd73-bab5-49eb-ef38-04e7a2153003"
   },
   "outputs": [
    {
     "name": "stdout",
     "output_type": "stream",
     "text": [
      "Requirement already satisfied: pyDOE in c:\\users\\adamb\\anaconda3\\envs\\lab2\\lib\\site-packages (0.3.8)\n",
      "Requirement already satisfied: numpy in c:\\users\\adamb\\anaconda3\\envs\\lab2\\lib\\site-packages (from pyDOE) (1.25.2)\n",
      "Requirement already satisfied: scipy in c:\\users\\adamb\\anaconda3\\envs\\lab2\\lib\\site-packages (from pyDOE) (1.11.1)\n",
      "Requirement already satisfied: torch in c:\\users\\adamb\\anaconda3\\envs\\lab2\\lib\\site-packages (2.0.1)\n",
      "Requirement already satisfied: filelock in c:\\users\\adamb\\anaconda3\\envs\\lab2\\lib\\site-packages (from torch) (3.9.0)\n",
      "Requirement already satisfied: typing-extensions in c:\\users\\adamb\\anaconda3\\envs\\lab2\\lib\\site-packages (from torch) (4.7.1)\n",
      "Requirement already satisfied: sympy in c:\\users\\adamb\\anaconda3\\envs\\lab2\\lib\\site-packages (from torch) (1.11.1)\n",
      "Requirement already satisfied: networkx in c:\\users\\adamb\\anaconda3\\envs\\lab2\\lib\\site-packages (from torch) (3.1)\n",
      "Requirement already satisfied: jinja2 in c:\\users\\adamb\\anaconda3\\envs\\lab2\\lib\\site-packages (from torch) (3.1.2)\n",
      "Requirement already satisfied: MarkupSafe>=2.0 in c:\\users\\adamb\\anaconda3\\envs\\lab2\\lib\\site-packages (from jinja2->torch) (2.1.1)\n",
      "Requirement already satisfied: mpmath>=0.19 in c:\\users\\adamb\\anaconda3\\envs\\lab2\\lib\\site-packages (from sympy->torch) (1.3.0)\n",
      "cpu\n"
     ]
    }
   ],
   "source": [
    "! pip install pyDOE\n",
    "! pip install torch\n",
    "import torch\n",
    "import torch.autograd as autograd         # computation graph\n",
    "from torch import Tensor                  # tensor node in the computation graph\n",
    "import torch.nn as nn                     # neural networks\n",
    "import torch.optim as optim               # optimizers e.g. gradient descent, ADAM, etc.\n",
    "\n",
    "import matplotlib.pyplot as plt\n",
    "import matplotlib.gridspec as gridspec\n",
    "from mpl_toolkits.axes_grid1 import make_axes_locatable\n",
    "from mpl_toolkits.mplot3d import Axes3D\n",
    "import matplotlib.ticker\n",
    "from sklearn.model_selection import train_test_split\n",
    "\n",
    "import numpy as np\n",
    "import time\n",
    "from pyDOE import lhs         #Latin Hypercube Sampling\n",
    "import scipy.io\n",
    "\n",
    "#Set default dtype to float32\n",
    "torch.set_default_dtype(torch.float)\n",
    "\n",
    "#PyTorch random number generators\n",
    "torch.manual_seed(1234)\n",
    "np.random.seed(1234)\n",
    "\n",
    "# Device configuration\n",
    "device = torch.device('cuda' if torch.cuda.is_available() else 'cpu')\n",
    "\n",
    "print(device)\n",
    "\n",
    "if device == 'cuda':\n",
    "    print(torch.cuda.get_device_name())\n"
   ]
  },
  {
   "cell_type": "markdown",
   "metadata": {},
   "source": [
    "# Neural Network (NN): Introduction\n",
    "\n",
    "### Definition\n",
    "\n",
    "Taking a feed-forward NN with two hidden layers as an example, the relationship between input (X) and output (Y) is defined as:\n",
    "\n",
    "$$\\text{NN}(X) = \\sigma_3\\Bigg(W_3\\sigma_2\\Big(W_2\\sigma_1(W_1X + b_1) + b_2\\Big) + b_3\\Bigg)\n",
    "$$\n",
    "\n",
    "where $\\sigma_i$ are the activation functions.\n",
    "\n",
    "**Note:** $((W_i,b_i))$ are the parameters of $NN(X)$. "
   ]
  },
  {
   "cell_type": "code",
   "execution_count": 3,
   "metadata": {},
   "outputs": [],
   "source": [
    "class FCN(nn.Module):\n",
    "    def __init__(self,layers):\n",
    "        super().__init__() #call __init__ from parent class\n",
    "        'activation function'\n",
    "        self.activation = nn.Tanh() \n",
    "        \n",
    "        'Initialization'\n",
    "        self.linears = nn.ModuleList([nn.Linear(layers[i], layers[i+1]) for i in range(len(layers)-1)])\n",
    "        self.iter = 0 #For the Optimizer\n",
    "        'Xavier Normal Initialization'\n",
    "        for i in range(len(layers)-1):\n",
    "            nn.init.xavier_normal_(self.linears[i].weight.data, gain=1.0)\n",
    "            # set biases to zero\n",
    "            nn.init.zeros_(self.linears[i].bias.data)\n",
    "\n",
    "    'forward pass'\n",
    "    def forward(self,x):\n",
    "        if torch.is_tensor(x) != True:\n",
    "            x = torch.from_numpy(x)\n",
    "        a = x.float()\n",
    "        for i in range(len(layers)-2):\n",
    "            z = self.linears[i](a)\n",
    "            a = self.activation(z)\n",
    "        a = self.linears[-1](a)\n",
    "        return a"
   ]
  },
  {
   "cell_type": "markdown",
   "metadata": {},
   "source": [
    "**Questions**\n",
    "- How to make $NN(X)$ sufficiently smooth (i.e. finite 1st and 2nd order derivatives)?\n",
    "- How to impose constraints on NN(X)?"
   ]
  },
  {
   "cell_type": "markdown",
   "metadata": {},
   "source": [
    "# Why Neural network?"
   ]
  },
  {
   "cell_type": "markdown",
   "metadata": {},
   "source": [
    "Finding the weights and biases that make NN(X) act like a function $y(X)$, where $y(X)$ represents the ground truth.\n",
    "\n",
    "\n",
    "### Universal Approximation Theorem\n",
    "\n",
    "For any ϵ of accuracy, if your neural network is sufficiently large (sufficiently many hidden layers, and sufficiently large weight matrices), NN(X) can approximate any functions within error ϵ.\n",
    "\n",
    "### Classical approximations: \n",
    "- $F(X; \\theta) = a_0 + a_1 X + a_2 X^2 + \\ldots$, $\\theta := a_i$\n",
    "- $F(X; \\theta) = a_0 + \\sum_k [b_k \\cos(kX) + c_k \\sin(kX)]$, $\\theta := [a_0\\,\\, b_k\\,\\, c_k]$\n",
    "\n",
    "### In higher dimension\n",
    "\n",
    "$$y(X_i)\\approx \\bigotimes_{i = 1}^{d} F(X_i)$$\n",
    "\n",
    "approximates a function $y$ of dimension d \n",
    "\n",
    "This means that if we use $n$ coefficients in each dimension $i$ in $d$, the total number of coefficients needed to approximate a d-dimensional function one-dimensional $F(X)$ would need $n^d$ coefficients. This exponential growth is known as the **curse of dimensionality**.\n"
   ]
  },
  {
   "cell_type": "markdown",
   "metadata": {},
   "source": [
    "# Problem statement\n",
    "Consider a 1D heat equation with a time-varying sink, where $y$ is the temperature, $x$ is the thickness and $t$ is time.\n",
    "\n",
    "### PDE ###\n",
    "\n",
    "$$\\frac{\\partial y}{\\partial t} =\\alpha\\frac{\\partial^2 y}{\\partial x^2}-e^{-t}(sin(\\pi x)-\\pi^2 sin(\\pi x))$$\n",
    "\n",
    "### Parameter\n",
    "$$\\alpha = 1$$\n",
    "\n",
    "### Nondimensionalization\n",
    "\n",
    "$$x\\in[-1,1]$$\n",
    "$$t\\in[0,1]$$"
   ]
  },
  {
   "cell_type": "code",
   "execution_count": 4,
   "metadata": {},
   "outputs": [],
   "source": [
    "x_min=-1\n",
    "x_max=1\n",
    "t_min=0\n",
    "t_max=1"
   ]
  },
  {
   "cell_type": "markdown",
   "metadata": {
    "id": "koofMp-5Y-UA"
   },
   "source": [
    "### Initial condition (IC):\n",
    "\n",
    "$$y(x,0)=sin(\\pi x)$$\n",
    "\n",
    "### Boundary conditions (BCs):\n",
    "\n",
    "$$y(-1,t)=0$$\n",
    "$$y(1,t)=0$$"
   ]
  },
  {
   "cell_type": "markdown",
   "metadata": {
    "id": "XYwWBwmbp3S6"
   },
   "source": [
    "# Automatic Diffrentiation (AD)\n",
    "Since $NN(X)$ is a function where $X=[t,\\,x]^{T}$ is the input, we can obtain its derivatives: $\\frac{\\partial NN}{\\partial t},\\,\\frac{\\partial NN}{\\partial x}$ and $\\frac{\\partial^2 NN}{\\partial x^2}$ using:\n",
    "\n",
    "+ numerical differentiation\n",
    "+ automatic differentiation (AD)\n",
    "+ advantage of AD over numerical integration\n"
   ]
  },
  {
   "cell_type": "markdown",
   "metadata": {},
   "source": [
    "### Creating $NN(X)$\n",
    "\n",
    "Assuming $NN(t,x)\\approx y$, we approximate the function y(X): R2→R1, i.e. two inputs and one output. \n"
   ]
  },
  {
   "cell_type": "code",
   "execution_count": 5,
   "metadata": {},
   "outputs": [
    {
     "data": {
      "text/plain": [
       "FCN(\n",
       "  (activation): Tanh()\n",
       "  (linears): ModuleList(\n",
       "    (0): Linear(in_features=2, out_features=32, bias=True)\n",
       "    (1): Linear(in_features=32, out_features=32, bias=True)\n",
       "    (2): Linear(in_features=32, out_features=1, bias=True)\n",
       "  )\n",
       ")"
      ]
     },
     "execution_count": 5,
     "metadata": {},
     "output_type": "execute_result"
    }
   ],
   "source": [
    "layers = np.array([2,32,32,1])\n",
    "FCN(layers)"
   ]
  },
  {
   "cell_type": "markdown",
   "metadata": {},
   "source": [
    "### Rearranging:\n",
    "\n",
    "$$\\left(\\frac{\\partial y}{\\partial t} -\\frac{\\partial^2 y}{\\partial x^2}\\right)+e^{-t}(sin(\\pi x)-\\pi^2 sin(\\pi x))=0$$\n",
    "\n",
    "We define a function $\\hat{f}$:\n",
    "\n",
    "$$\\hat{f}(t,x)=\\left(\\frac{\\partial NN}{\\partial t} -\\frac{\\partial^2 NN}{\\partial x^2}\n",
    "\\right)+e^{-t}(sin(\\pi x)-\\pi^2 sin(\\pi x))$$\n",
    "\n",
    "If $\\hat{f}\\rightarrow 0$ then $NN(X)\\approx y(X)$."
   ]
  },
  {
   "cell_type": "markdown",
   "metadata": {},
   "source": [
    "### PINNs' Loss function\n",
    "\n",
    "Now we train our NN(X) by iteratively minimizing a loss function. To this end, our PDE is first evaluated on the \"collocation points\" ($N_{f}$) inside our domain $(x,t)$ to obtain the PDE loss:\n",
    "\n",
    "$$MSE_{PDE}=\\frac{1}{N_f}\\sum^{N_f}_{i=1}|f(t_f^i,x_f^i)|^2$$"
   ]
  },
  {
   "cell_type": "markdown",
   "metadata": {},
   "source": [
    "Note  = number of data samples for training.\n"
   ]
  },
  {
   "cell_type": "code",
   "execution_count": 6,
   "metadata": {},
   "outputs": [],
   "source": [
    "def lossPDE(self,x_PDE):\n",
    "    g=x_PDE.clone()\n",
    "    g.requires_grad=True #Enable AD\n",
    "    f=self.forward(g)\n",
    "    f_x_t = autograd.grad(f,g,torch.ones([g.shape[0], 1]).to(device), retain_graph=True, create_graph=True)[0]\n",
    "    f_xx_tt = autograd.grad(f_x_t,g,torch.ones(g.shape).to(device), create_graph=True)[0]\n",
    "    f_t=f_x_t[:,[1]]\n",
    "    f_xx=f_xx_tt[:,[0]]\n",
    "    f_hat=f_t-f_xx+ torch.exp(-g[:, 1:])* (torch.sin(np.pi * g[:, 0:1]) - np.pi ** 2 * torch.sin(np.pi * g[:, 0:1]))\n",
    "    return self.loss_function(f_hat,f)"
   ]
  },
  {
   "cell_type": "markdown",
   "metadata": {},
   "source": [
    "## Key observations\n",
    "\n",
    "Capability of PINNs: Learn the fixed solution, namely the solution of an autonomous system, or of a non-autonomous system at a given input profile and a given initial state.\n"
   ]
  },
  {
   "cell_type": "markdown",
   "metadata": {},
   "source": [
    "## Limitations\n",
    "\n",
    "* When the input profile/initial state is changed, one has to re-train the model of PINNs.\n",
    "* When the input profile/initial state is dynamically changed, one has to train PINNs online at each time step, which is almost impossible in real-time control systems. \n"
   ]
  },
  {
   "cell_type": "markdown",
   "metadata": {},
   "source": [
    "# Model integrated neural networks (MINN)\n",
    "\n",
    "For a non-autonomous system (e.g. for battery cooling control purposes), such that the function $f(t_f^i,x_f^i,u^i)$ includes a control input $u$ which is time-varying, PINNs will not work because it only approximates the solution trajectory of a pre-defined (fixed) input. Under such applications, one has to resort to the MINN formulation, which learns the dynamics of a non-autonomous system. It can be found in the paper: \n",
    "\n",
    "MINN: Learning the dynamics of differential-algebraic equations and application to battery modeling. ArXiv preprint https://arxiv.org/abs/2304.14422\n",
    "\n",
    "### Key advantage of MINN over PINN\n",
    "* Learning the dynamics of a non-autonomous system, as opposed to a fixed solution of an autonomous system with predefined initial and boundary conditions."
   ]
  },
  {
   "cell_type": "markdown",
   "metadata": {},
   "source": [
    "# Implementations\n",
    "\n",
    "### Discreatization"
   ]
  },
  {
   "cell_type": "code",
   "execution_count": 7,
   "metadata": {},
   "outputs": [
    {
     "name": "stderr",
     "output_type": "stream",
     "text": [
      "C:\\Users\\adamb\\anaconda3\\envs\\lab2\\lib\\site-packages\\torch\\functional.py:504: UserWarning: torch.meshgrid: in an upcoming release, it will be required to pass the indexing argument. (Triggered internally at C:\\b\\abs_abjetg6_iu\\croot\\pytorch_1686932924616\\work\\aten\\src\\ATen\\native\\TensorShape.cpp:3484.)\n",
      "  return _VF.meshgrid(tensors, **kwargs)  # type: ignore[attr-defined]\n"
     ]
    }
   ],
   "source": [
    "N_points_x=200\n",
    "total_points_t=100\n",
    "\n",
    "# Create equally spaced discreatization in x and t \n",
    "x=torch.linspace(x_min,x_max,N_points_x).view(-1,1)\n",
    "t=torch.linspace(t_min,t_max,total_points_t).view(-1,1)\n",
    "\n",
    "# Create the mesh\n",
    "X,T=torch.meshgrid(x.squeeze(1),t.squeeze(1))\n",
    "\n",
    "# Domain bounds\n",
    "lb = torch.tensor([-1.,  0.]) #x, t\n",
    "ub = torch.tensor([1., 1.]) #x, t"
   ]
  },
  {
   "cell_type": "markdown",
   "metadata": {},
   "source": [
    "We can then generate the training dataset using the known exact solution, i.e.,\n",
    "\n",
    "$y(x,t)=e^{-t}\\sin(\\pi x)$."
   ]
  },
  {
   "cell_type": "code",
   "execution_count": 8,
   "metadata": {},
   "outputs": [],
   "source": [
    "def f_data(x,t):\n",
    "  return torch.exp(-t)*(torch.sin(np.pi*x))"
   ]
  },
  {
   "cell_type": "markdown",
   "metadata": {},
   "source": [
    "### Let's plot the data (ground truth)"
   ]
  },
  {
   "cell_type": "code",
   "execution_count": 9,
   "metadata": {},
   "outputs": [
    {
     "data": {
      "image/png": "[encoded data removed]",
      "text/plain": [
       "<Figure size 640x480 with 2 Axes>"
      ]
     },
     "metadata": {},
     "output_type": "display_data"
    }
   ],
   "source": [
    "y_exact=f_data(X,T)\n",
    "\n",
    "def plot_data(X,T,y):\n",
    "  fig,ax=plt.subplots(1,1)\n",
    "  cp = ax.contourf(T,X, y,20,cmap=\"rainbow\")\n",
    "  fig.colorbar(cp) # Add a colorbar to a plot\n",
    "  ax.set_xlabel('t')\n",
    "  ax.set_ylabel('x')\n",
    "  plt.show()\n",
    " \n",
    "plot_data(X,T,y_exact)"
   ]
  },
  {
   "cell_type": "markdown",
   "metadata": {},
   "source": [
    "### Generating collocations points for PDE loss using Latin hypercube sampling"
   ]
  },
  {
   "cell_type": "code",
   "execution_count": 10,
   "metadata": {},
   "outputs": [],
   "source": [
    "X_train_Nf=lb+(ub-lb)*lhs(2,10000) # two inputs and 10000 collocation points"
   ]
  },
  {
   "cell_type": "markdown",
   "metadata": {},
   "source": [
    "### Generating BCIC training data\n",
    "\n",
    "Similarly, we obtain the training dataset from the known boundary and initial conditions (BCICs).\n",
    "\n",
    "#### Initial Condition:\n",
    "\n",
    "$$y(x,0)=sin(\\pi x)$$\n",
    "\n",
    "#### Boundary Conditions:\n",
    "\n",
    "$$y(-1,t)=0$$\n",
    "$$y(1,t)=0$$"
   ]
  },
  {
   "cell_type": "code",
   "execution_count": 11,
   "metadata": {},
   "outputs": [],
   "source": [
    "# Initial Condition\n",
    "\n",
    "# Left Edge: y(x,0) = sin(x) at t=0\n",
    "# [:,None] is to give it the right dimension\n",
    "left_X=torch.hstack((X[:,0][:,None],T[:,0][:,None])) # First column\n",
    "left_Y=torch.sin(np.pi*left_X[:,0]).unsqueeze(1)\n",
    "\n",
    "#Boundary Conditions\n",
    "\n",
    "#Bottom Edge: x = -1\n",
    "bottom_X=torch.hstack((X[0,:][:,None],T[0,:][:,None])) # First row\n",
    "bottom_Y=torch.zeros(bottom_X.shape[0],1)\n",
    "\n",
    "#Top Edge: x= 1\n",
    "top_X=torch.hstack((X[-1,:][:,None],T[-1,:][:,None])) # Last row\n",
    "top_Y=torch.zeros(top_X.shape[0],1)\n",
    "\n",
    "#Collect all the training data into the same dataset\n",
    "X_train=torch.vstack([left_X,bottom_X,top_X])\n",
    "Y_train=torch.vstack([left_Y,bottom_Y,top_Y])\n",
    "\n",
    "#Select 100 random points from the initial and boundary data:\n",
    "idx=np.random.choice(X_train.shape[0],100,replace=False)\n",
    "X_train_Nu=X_train[idx,:]\n",
    "Y_train_Nu=Y_train[idx,:]\n",
    "\n",
    "#Adding all up to form the training data for X\n",
    "X_train_Nf=torch.vstack((X_train_Nf,X_train_Nu)) "
   ]
  },
  {
   "cell_type": "markdown",
   "metadata": {},
   "source": [
    "$$MSE_{BCICs}=\\frac{1}{N_{BCICs}}\\sum^{N_{BCICs}}_{i=1}\\Big|y(t_{BCICs}^i,x_{BCICs}^i)-NN(t_{BCICs}^i,x_{BCICs}^i)\\Big|^2$$\n",
    "\n",
    "\n",
    "#### Total Loss:\n",
    "\n",
    "$$MSE_{PINN}=MSE_{PDE}+MSE_{BCIC}$$"
   ]
  },
  {
   "cell_type": "markdown",
   "metadata": {
    "id": "ZHYqtyYJs3Jv"
   },
   "source": [
    "### Wrapping up things together"
   ]
  },
  {
   "cell_type": "code",
   "execution_count": 12,
   "metadata": {
    "id": "7EZjlbVMi8w0"
   },
   "outputs": [],
   "source": [
    "class FCN(nn.Module):\n",
    "    def __init__(self,layers):\n",
    "        super().__init__() #call __init__ from parent class\n",
    "        'activation function'\n",
    "        self.activation = nn.Tanh()\n",
    "        'loss function'\n",
    "        self.loss_function = nn.MSELoss(reduction ='mean')\n",
    "        'Initialise neural network as a list using nn.Modulelist'\n",
    "        self.linears = nn.ModuleList([nn.Linear(layers[i], layers[i+1]) for i in range(len(layers)-1)])\n",
    "        self.iter = 0 #For the Optimizer\n",
    "        'Xavier Normal Initialization'\n",
    "        for i in range(len(layers)-1):\n",
    "            nn.init.xavier_normal_(self.linears[i].weight.data, gain=1.0)\n",
    "            # set biases to zero\n",
    "            nn.init.zeros_(self.linears[i].bias.data)\n",
    "\n",
    "    'foward pass'\n",
    "    def forward(self,x):\n",
    "        if torch.is_tensor(x) != True:\n",
    "            x = torch.from_numpy(x)\n",
    "        a = x.float()\n",
    "        for i in range(len(layers)-2):\n",
    "            z = self.linears[i](a)\n",
    "            a = self.activation(z)\n",
    "        a = self.linears[-1](a)\n",
    "        return a\n",
    "\n",
    "    'Loss Functions'\n",
    "    # Boundary loss\n",
    "    def lossBC(self,x_BC,y_BC):\n",
    "      loss_BC=self.loss_function(self.forward(x_BC),y_BC)\n",
    "      return loss_BC\n",
    "\n",
    "    # PDE loss\n",
    "    def lossPDE(self,x_PDE):\n",
    "        g=x_PDE.clone()\n",
    "        g.requires_grad=True #Enable AD\n",
    "        f=self.forward(g)\n",
    "        f_x_t = autograd.grad(f,g,torch.ones([g.shape[0], 1]).to(device), retain_graph=True, create_graph=True)[0]\n",
    "        f_xx_tt = autograd.grad(f_x_t,g,torch.ones(g.shape).to(device), create_graph=True)[0]\n",
    "        f_t=f_x_t[:,[1]]\n",
    "        f_xx=f_xx_tt[:,[0]]\n",
    "        f_hat=f_t-f_xx+ torch.exp(-g[:, 1:])* (torch.sin(np.pi * g[:, 0:1]) - np.pi ** 2 * torch.sin(np.pi * g[:, 0:1]))\n",
    "        return self.loss_function(f_hat,f)\n",
    "\n",
    "    def loss(self,x_BC,y_BC,x_PDE):\n",
    "      loss_bc=self.lossBC(x_BC,y_BC)\n",
    "      loss_pde=self.lossPDE(x_PDE)\n",
    "      return loss_bc+loss_pde"
   ]
  },
  {
   "cell_type": "markdown",
   "metadata": {
    "id": "I82eH55ElVSq"
   },
   "source": [
    "# Training"
   ]
  },
  {
   "cell_type": "code",
   "execution_count": 13,
   "metadata": {
    "colab": {
     "base_uri": "https://localhost:8080/"
    },
    "id": "8KZvgKcalOVV",
    "outputId": "385fa234-1433-4d9a-a5bd-7acebcbd8bdf"
   },
   "outputs": [
    {
     "name": "stdout",
     "output_type": "stream",
     "text": [
      "FCN(\n",
      "  (activation): Tanh()\n",
      "  (loss_function): MSELoss()\n",
      "  (linears): ModuleList(\n",
      "    (0): Linear(in_features=2, out_features=32, bias=True)\n",
      "    (1): Linear(in_features=32, out_features=32, bias=True)\n",
      "    (2): Linear(in_features=32, out_features=1, bias=True)\n",
      "  )\n",
      ")\n"
     ]
    }
   ],
   "source": [
    "torch.manual_seed(123)\n",
    "#Uploading training data to GPU\n",
    "X_train_Nu=X_train_Nu.float().to(device) \n",
    "Y_train_Nu=Y_train_Nu.float().to(device) \n",
    "X_train_Nf=X_train_Nf.float().to(device) \n",
    "\n",
    "#Create Model\n",
    "PINN = FCN(layers)\n",
    "PINN.to(device)\n",
    "print(PINN)\n",
    "params = list(PINN.parameters())\n",
    "optimizer = torch.optim.Adam(PINN.parameters(),lr=1e-3,amsgrad=False)\n",
    "start_time = time.time()\n"
   ]
  },
  {
   "cell_type": "code",
   "execution_count": 16,
   "metadata": {
    "colab": {
     "base_uri": "https://localhost:8080/"
    },
    "id": "KM3GHnh9ljCh",
    "outputId": "3db89386-aac4-4880-a5b2-acdf66f20247"
   },
   "outputs": [
    {
     "name": "stdout",
     "output_type": "stream",
     "text": [
      "Training Loss\n",
      "0.2681733\n",
      "0.23051077\n",
      "0.19306047\n",
      "0.1572787\n",
      "0.12644675\n",
      "0.10343267\n",
      "0.08792034\n",
      "0.07648169\n",
      "0.06629591\n",
      "0.056293346\n"
     ]
    }
   ],
   "source": [
    "steps = 200\n",
    "for i in range(steps):\n",
    "    if i==0:\n",
    "      print(\"Training Loss\")\n",
    "    loss = PINN.loss(X_train_Nu,Y_train_Nu,X_train_Nf)\n",
    "    optimizer.zero_grad()\n",
    "    loss.backward()\n",
    "    optimizer.step()\n",
    "    if i%(steps/10)==0:\n",
    "      with torch.no_grad():\n",
    "          print(loss.detach().cpu().numpy())"
   ]
  },
  {
   "cell_type": "markdown",
   "metadata": {
    "id": "kpRh89zM8Te8"
   },
   "source": [
    "# Testing"
   ]
  },
  {
   "cell_type": "code",
   "execution_count": 17,
   "metadata": {
    "id": "iezJgPG0UAto"
   },
   "outputs": [],
   "source": [
    "x_test=torch.hstack((X.transpose(1,0).flatten()[:,None],T.transpose(1,0).flatten()[:,None]))\n",
    "y_test=y_exact.transpose(1,0).flatten()[:,None] "
   ]
  },
  {
   "cell_type": "code",
   "execution_count": 18,
   "metadata": {
    "id": "otgA5_xXqb4S"
   },
   "outputs": [],
   "source": [
    "y1 = PINN(x_test)\n",
    "x1 = x_test[:,0]\n",
    "t1 = x_test[:,1]"
   ]
  },
  {
   "cell_type": "code",
   "execution_count": 19,
   "metadata": {
    "id": "90-ygJjca2c_"
   },
   "outputs": [],
   "source": [
    "arr_x1=x1.reshape(shape=[100,200]).transpose(1,0).detach().cpu()\n",
    "arr_T1=t1.reshape(shape=[100,200]).transpose(1,0).detach().cpu()\n",
    "arr_y1=y1.reshape(shape=[100,200]).transpose(1,0).detach().cpu()\n",
    "arr_y_test=y_test.reshape(shape=[100,200]).transpose(1,0).detach().cpu()"
   ]
  },
  {
   "cell_type": "code",
   "execution_count": 20,
   "metadata": {
    "colab": {
     "base_uri": "https://localhost:8080/",
     "height": 526
    },
    "id": "ituXQapsciqE",
    "outputId": "982cffba-812a-4fc4-baf7-42ef29c3f339"
   },
   "outputs": [
    {
     "data": {
      "image/png": "[encoded data removed]",
      "text/plain": [
       "<Figure size 640x480 with 2 Axes>"
      ]
     },
     "metadata": {},
     "output_type": "display_data"
    }
   ],
   "source": [
    "plot_data(arr_x1,arr_T1,arr_y1)"
   ]
  },
  {
   "cell_type": "code",
   "execution_count": 21,
   "metadata": {
    "colab": {
     "base_uri": "https://localhost:8080/",
     "height": 526
    },
    "id": "xarXcLDdeF7X",
    "outputId": "cb845f12-3d53-401f-d237-f963cf9b93ea"
   },
   "outputs": [
    {
     "data": {
      "image/png": "[encoded data removed]",
      "text/plain": [
       "<Figure size 640x480 with 2 Axes>"
      ]
     },
     "metadata": {},
     "output_type": "display_data"
    }
   ],
   "source": [
    "plot_data(X,T,y_exact)"
   ]
  },
  {
   "cell_type": "markdown",
   "metadata": {
    "id": "K_21EpoD1fZi"
   },
   "source": [
    "## References:\n"
   ]
  },
  {
   "cell_type": "markdown",
   "metadata": {
    "id": "SUFzJJ23ZR2O"
   },
   "source": [
    "[1] Raissi, M., Perdikaris, P., & Karniadakis, G. E. (2017). Physics informed deep learning (part i): Data-driven solutions of nonlinear partial differential equations. ArXiv preprint arXiv:1711.10561. http://arxiv.org/pdf/1711.10561v1\n",
    "\n",
    "[2] Lu, L., Meng, X., Mao, Z., & Karniadakis, G. E. (1907). DeepXDE: A deep learning library for solving differential equations,(2019). ArXiv preprint https://arxiv.org/abs/1907.04502\n",
    "\n",
    "[3] Huang, Y. and Zou, C. and Li, Y. and Wik, T. (2023). MINN: Learning the dynamics of differential-algebraic equations and application to battery modeling. ArXiv preprint https://arxiv.org/abs/2304.14422\n",
    "\n"
   ]
  },
  {
   "cell_type": "markdown",
   "metadata": {},
   "source": [
    "# Exercise"
   ]
  },
  {
   "cell_type": "markdown",
   "metadata": {},
   "source": [
    "+ Plot the testing error \n",
    "+ Minimize the testing error \n",
    "\n",
    "**Hint:** use the L-BFGS Optimizer\n",
    "+ Set up an inverse problem to infer the parameter $\\alpha$\n",
    "\n",
    "+ Train a MINN model using for a surface cooled battery , i.e.,\n",
    "\n",
    "$$y(x,0)=u(t)$$"
   ]
  }
 ],
 "metadata": {
  "accelerator": "GPU",
  "colab": {
   "collapsed_sections": [
    "Y61YA90-WIZ1",
    "UoqCzgLSp61M",
    "i0j73GoH86-m",
    "pOe9yRvxjakj"
   ],
   "machine_shape": "hm",
   "name": "4.DiffusionEquation.ipynb",
   "provenance": []
  },
  "kernelspec": {
   "display_name": "Python 3 (ipykernel)",
   "language": "python",
   "name": "python3"
  },
  "language_info": {
   "codemirror_mode": {
    "name": "ipython",
    "version": 3
   },
   "file_extension": ".py",
   "mimetype": "text/x-python",
   "name": "python",
   "nbconvert_exporter": "python",
   "pygments_lexer": "ipython3",
   "version": "3.9.17"
  }
 },
 "nbformat": 4,
 "nbformat_minor": 1
}
